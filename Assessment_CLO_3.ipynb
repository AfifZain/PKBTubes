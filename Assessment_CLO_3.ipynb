{
  "cells": [
    {
      "cell_type": "markdown",
      "id": "0998ab93",
      "metadata": {
        "id": "0998ab93"
      },
      "source": [
        "# <center>Assessment CLO-3: Tugas Pemrograman Learning</center>"
      ]
    },
    {
      "cell_type": "markdown",
      "id": "b9dd2c3d",
      "metadata": {
        "id": "b9dd2c3d"
      },
      "source": [
        "<b>Topik</b>\n",
        "Klasifikasi pada Auction Verification menggunakan KNN\n",
        "\n",
        "<b>Kelompok: </b>\n",
        "\n",
        "Anggota:\n",
        "1. M Afif Zain - 103012380548\n",
        "2. Devana Gema Falesta - 103012380513\n",
        "3. Niesya Yulianny - 103012380523\n",
        "\n",
        "Kelas :\n",
        "IF-46-04"
      ]
    },
    {
      "cell_type": "markdown",
      "id": "f67c8e8d",
      "metadata": {
        "id": "f67c8e8d"
      },
      "source": [
        "#### Pendahuluan\n",
        "Sumber Dataset : https://archive.ics.uci.edu/dataset/713/auction+verification\n",
        "\n",
        "Dataset tersebut berisi berbagai atribut dan hasil verifikasi yang terkait dengan sistem verifikasi lelang. Dataset ini  digunakan untuk menganalisis dan memprediksi hasil verifikasi lelang berdasarkan berbagai atribut seperti harga properti, kategori produk, pemenang, kapasitas proses, dan waktu verifikasi.\n",
        "\n",
        "* process.b1.capacity hingga process.b4.capacity: Atribut ini kemungkinan\n",
        "mewakili kapasitas atau kemampuan dari proses atau komponen yang berbeda (b1 hingga b4) dalam sistem lelang.\n",
        "* property.price: Harga properti yang dilelang.\n",
        "* property.product: Jenis atau kategori produk yang dilelang, diwakili oleh nilai numerik (1 hingga 6).\n",
        "* property.winner: Pemenang lelang, diwakili oleh nilai numerik (0 hingga 4).\n",
        "* verification.result: Hasil dari proses verifikasi lelang, ditunjukkan sebagai True atau False.\n",
        "* verification.time: Waktu yang dibutuhkan untuk proses verifikasi, diukur dalam satuan tertentu (kemungkinan detik atau milidetik)."
      ]
    },
    {
      "cell_type": "code",
      "execution_count": null,
      "id": "bd1c9727",
      "metadata": {
        "id": "bd1c9727"
      },
      "outputs": [],
      "source": [
        "# Show your data in tabular or other visualization ways\n",
        "# Data Preprocessing\n",
        "# Data Splitting\n",
        "# Write your code here\n",
        "\n",
        "# Import necessary libraries\n",
        "import pandas as pd\n",
        "import numpy as np\n",
        "from sklearn.model_selection import train_test_split\n",
        "from sklearn.preprocessing import StandardScaler\n",
        "from sklearn.neighbors import KNeighborsClassifier\n",
        "from sklearn.metrics import classification_report, confusion_matrix, accuracy_score\n",
        "import matplotlib.pyplot as plt\n",
        "import seaborn as sns\n",
        "import joblib\n"
      ]
    },
    {
      "cell_type": "markdown",
      "source": [
        "##Load Data"
      ],
      "metadata": {
        "id": "3Cuv1V3Cyjsb"
      },
      "id": "3Cuv1V3Cyjsb"
    },
    {
      "cell_type": "code",
      "source": [
        "data = pd.read_csv('data.csv')\n",
        "\n",
        "data.head()"
      ],
      "metadata": {
        "colab": {
          "base_uri": "https://localhost:8080/",
          "height": 226
        },
        "id": "QtAngRWPyX7Y",
        "outputId": "7c55b1cd-6e39-4b90-c590-dece2b6e23bf"
      },
      "id": "QtAngRWPyX7Y",
      "execution_count": null,
      "outputs": [
        {
          "output_type": "execute_result",
          "data": {
            "text/plain": [
              "   process.b1.capacity  process.b2.capacity  process.b3.capacity  \\\n",
              "0                    0                    0                    2   \n",
              "1                    0                    0                    2   \n",
              "2                    0                    0                    2   \n",
              "3                    0                    0                    2   \n",
              "4                    0                    0                    2   \n",
              "\n",
              "   process.b4.capacity  property.price  property.product  property.winner  \\\n",
              "0                    1              59                 1                0   \n",
              "1                    1              59                 2                0   \n",
              "2                    1              59                 4                0   \n",
              "3                    1              59                 6                0   \n",
              "4                    1              60                 1                0   \n",
              "\n",
              "   verification.result  verification.time  \n",
              "0                False         163.316667  \n",
              "1                False         200.860000  \n",
              "2                False         154.888889  \n",
              "3                False         108.640000  \n",
              "4                 True          85.466667  "
            ],
            "text/html": [
              "\n",
              "  <div id=\"df-2de5d535-e9a8-4fcd-81bb-21f4c584f7bf\" class=\"colab-df-container\">\n",
              "    <div>\n",
              "<style scoped>\n",
              "    .dataframe tbody tr th:only-of-type {\n",
              "        vertical-align: middle;\n",
              "    }\n",
              "\n",
              "    .dataframe tbody tr th {\n",
              "        vertical-align: top;\n",
              "    }\n",
              "\n",
              "    .dataframe thead th {\n",
              "        text-align: right;\n",
              "    }\n",
              "</style>\n",
              "<table border=\"1\" class=\"dataframe\">\n",
              "  <thead>\n",
              "    <tr style=\"text-align: right;\">\n",
              "      <th></th>\n",
              "      <th>process.b1.capacity</th>\n",
              "      <th>process.b2.capacity</th>\n",
              "      <th>process.b3.capacity</th>\n",
              "      <th>process.b4.capacity</th>\n",
              "      <th>property.price</th>\n",
              "      <th>property.product</th>\n",
              "      <th>property.winner</th>\n",
              "      <th>verification.result</th>\n",
              "      <th>verification.time</th>\n",
              "    </tr>\n",
              "  </thead>\n",
              "  <tbody>\n",
              "    <tr>\n",
              "      <th>0</th>\n",
              "      <td>0</td>\n",
              "      <td>0</td>\n",
              "      <td>2</td>\n",
              "      <td>1</td>\n",
              "      <td>59</td>\n",
              "      <td>1</td>\n",
              "      <td>0</td>\n",
              "      <td>False</td>\n",
              "      <td>163.316667</td>\n",
              "    </tr>\n",
              "    <tr>\n",
              "      <th>1</th>\n",
              "      <td>0</td>\n",
              "      <td>0</td>\n",
              "      <td>2</td>\n",
              "      <td>1</td>\n",
              "      <td>59</td>\n",
              "      <td>2</td>\n",
              "      <td>0</td>\n",
              "      <td>False</td>\n",
              "      <td>200.860000</td>\n",
              "    </tr>\n",
              "    <tr>\n",
              "      <th>2</th>\n",
              "      <td>0</td>\n",
              "      <td>0</td>\n",
              "      <td>2</td>\n",
              "      <td>1</td>\n",
              "      <td>59</td>\n",
              "      <td>4</td>\n",
              "      <td>0</td>\n",
              "      <td>False</td>\n",
              "      <td>154.888889</td>\n",
              "    </tr>\n",
              "    <tr>\n",
              "      <th>3</th>\n",
              "      <td>0</td>\n",
              "      <td>0</td>\n",
              "      <td>2</td>\n",
              "      <td>1</td>\n",
              "      <td>59</td>\n",
              "      <td>6</td>\n",
              "      <td>0</td>\n",
              "      <td>False</td>\n",
              "      <td>108.640000</td>\n",
              "    </tr>\n",
              "    <tr>\n",
              "      <th>4</th>\n",
              "      <td>0</td>\n",
              "      <td>0</td>\n",
              "      <td>2</td>\n",
              "      <td>1</td>\n",
              "      <td>60</td>\n",
              "      <td>1</td>\n",
              "      <td>0</td>\n",
              "      <td>True</td>\n",
              "      <td>85.466667</td>\n",
              "    </tr>\n",
              "  </tbody>\n",
              "</table>\n",
              "</div>\n",
              "    <div class=\"colab-df-buttons\">\n",
              "\n",
              "  <div class=\"colab-df-container\">\n",
              "    <button class=\"colab-df-convert\" onclick=\"convertToInteractive('df-2de5d535-e9a8-4fcd-81bb-21f4c584f7bf')\"\n",
              "            title=\"Convert this dataframe to an interactive table.\"\n",
              "            style=\"display:none;\">\n",
              "\n",
              "  <svg xmlns=\"http://www.w3.org/2000/svg\" height=\"24px\" viewBox=\"0 -960 960 960\">\n",
              "    <path d=\"M120-120v-720h720v720H120Zm60-500h600v-160H180v160Zm220 220h160v-160H400v160Zm0 220h160v-160H400v160ZM180-400h160v-160H180v160Zm440 0h160v-160H620v160ZM180-180h160v-160H180v160Zm440 0h160v-160H620v160Z\"/>\n",
              "  </svg>\n",
              "    </button>\n",
              "\n",
              "  <style>\n",
              "    .colab-df-container {\n",
              "      display:flex;\n",
              "      gap: 12px;\n",
              "    }\n",
              "\n",
              "    .colab-df-convert {\n",
              "      background-color: #E8F0FE;\n",
              "      border: none;\n",
              "      border-radius: 50%;\n",
              "      cursor: pointer;\n",
              "      display: none;\n",
              "      fill: #1967D2;\n",
              "      height: 32px;\n",
              "      padding: 0 0 0 0;\n",
              "      width: 32px;\n",
              "    }\n",
              "\n",
              "    .colab-df-convert:hover {\n",
              "      background-color: #E2EBFA;\n",
              "      box-shadow: 0px 1px 2px rgba(60, 64, 67, 0.3), 0px 1px 3px 1px rgba(60, 64, 67, 0.15);\n",
              "      fill: #174EA6;\n",
              "    }\n",
              "\n",
              "    .colab-df-buttons div {\n",
              "      margin-bottom: 4px;\n",
              "    }\n",
              "\n",
              "    [theme=dark] .colab-df-convert {\n",
              "      background-color: #3B4455;\n",
              "      fill: #D2E3FC;\n",
              "    }\n",
              "\n",
              "    [theme=dark] .colab-df-convert:hover {\n",
              "      background-color: #434B5C;\n",
              "      box-shadow: 0px 1px 3px 1px rgba(0, 0, 0, 0.15);\n",
              "      filter: drop-shadow(0px 1px 2px rgba(0, 0, 0, 0.3));\n",
              "      fill: #FFFFFF;\n",
              "    }\n",
              "  </style>\n",
              "\n",
              "    <script>\n",
              "      const buttonEl =\n",
              "        document.querySelector('#df-2de5d535-e9a8-4fcd-81bb-21f4c584f7bf button.colab-df-convert');\n",
              "      buttonEl.style.display =\n",
              "        google.colab.kernel.accessAllowed ? 'block' : 'none';\n",
              "\n",
              "      async function convertToInteractive(key) {\n",
              "        const element = document.querySelector('#df-2de5d535-e9a8-4fcd-81bb-21f4c584f7bf');\n",
              "        const dataTable =\n",
              "          await google.colab.kernel.invokeFunction('convertToInteractive',\n",
              "                                                    [key], {});\n",
              "        if (!dataTable) return;\n",
              "\n",
              "        const docLinkHtml = 'Like what you see? Visit the ' +\n",
              "          '<a target=\"_blank\" href=https://colab.research.google.com/notebooks/data_table.ipynb>data table notebook</a>'\n",
              "          + ' to learn more about interactive tables.';\n",
              "        element.innerHTML = '';\n",
              "        dataTable['output_type'] = 'display_data';\n",
              "        await google.colab.output.renderOutput(dataTable, element);\n",
              "        const docLink = document.createElement('div');\n",
              "        docLink.innerHTML = docLinkHtml;\n",
              "        element.appendChild(docLink);\n",
              "      }\n",
              "    </script>\n",
              "  </div>\n",
              "\n",
              "\n",
              "<div id=\"df-a869958f-d662-4d25-981e-641d1308eede\">\n",
              "  <button class=\"colab-df-quickchart\" onclick=\"quickchart('df-a869958f-d662-4d25-981e-641d1308eede')\"\n",
              "            title=\"Suggest charts\"\n",
              "            style=\"display:none;\">\n",
              "\n",
              "<svg xmlns=\"http://www.w3.org/2000/svg\" height=\"24px\"viewBox=\"0 0 24 24\"\n",
              "     width=\"24px\">\n",
              "    <g>\n",
              "        <path d=\"M19 3H5c-1.1 0-2 .9-2 2v14c0 1.1.9 2 2 2h14c1.1 0 2-.9 2-2V5c0-1.1-.9-2-2-2zM9 17H7v-7h2v7zm4 0h-2V7h2v10zm4 0h-2v-4h2v4z\"/>\n",
              "    </g>\n",
              "</svg>\n",
              "  </button>\n",
              "\n",
              "<style>\n",
              "  .colab-df-quickchart {\n",
              "      --bg-color: #E8F0FE;\n",
              "      --fill-color: #1967D2;\n",
              "      --hover-bg-color: #E2EBFA;\n",
              "      --hover-fill-color: #174EA6;\n",
              "      --disabled-fill-color: #AAA;\n",
              "      --disabled-bg-color: #DDD;\n",
              "  }\n",
              "\n",
              "  [theme=dark] .colab-df-quickchart {\n",
              "      --bg-color: #3B4455;\n",
              "      --fill-color: #D2E3FC;\n",
              "      --hover-bg-color: #434B5C;\n",
              "      --hover-fill-color: #FFFFFF;\n",
              "      --disabled-bg-color: #3B4455;\n",
              "      --disabled-fill-color: #666;\n",
              "  }\n",
              "\n",
              "  .colab-df-quickchart {\n",
              "    background-color: var(--bg-color);\n",
              "    border: none;\n",
              "    border-radius: 50%;\n",
              "    cursor: pointer;\n",
              "    display: none;\n",
              "    fill: var(--fill-color);\n",
              "    height: 32px;\n",
              "    padding: 0;\n",
              "    width: 32px;\n",
              "  }\n",
              "\n",
              "  .colab-df-quickchart:hover {\n",
              "    background-color: var(--hover-bg-color);\n",
              "    box-shadow: 0 1px 2px rgba(60, 64, 67, 0.3), 0 1px 3px 1px rgba(60, 64, 67, 0.15);\n",
              "    fill: var(--button-hover-fill-color);\n",
              "  }\n",
              "\n",
              "  .colab-df-quickchart-complete:disabled,\n",
              "  .colab-df-quickchart-complete:disabled:hover {\n",
              "    background-color: var(--disabled-bg-color);\n",
              "    fill: var(--disabled-fill-color);\n",
              "    box-shadow: none;\n",
              "  }\n",
              "\n",
              "  .colab-df-spinner {\n",
              "    border: 2px solid var(--fill-color);\n",
              "    border-color: transparent;\n",
              "    border-bottom-color: var(--fill-color);\n",
              "    animation:\n",
              "      spin 1s steps(1) infinite;\n",
              "  }\n",
              "\n",
              "  @keyframes spin {\n",
              "    0% {\n",
              "      border-color: transparent;\n",
              "      border-bottom-color: var(--fill-color);\n",
              "      border-left-color: var(--fill-color);\n",
              "    }\n",
              "    20% {\n",
              "      border-color: transparent;\n",
              "      border-left-color: var(--fill-color);\n",
              "      border-top-color: var(--fill-color);\n",
              "    }\n",
              "    30% {\n",
              "      border-color: transparent;\n",
              "      border-left-color: var(--fill-color);\n",
              "      border-top-color: var(--fill-color);\n",
              "      border-right-color: var(--fill-color);\n",
              "    }\n",
              "    40% {\n",
              "      border-color: transparent;\n",
              "      border-right-color: var(--fill-color);\n",
              "      border-top-color: var(--fill-color);\n",
              "    }\n",
              "    60% {\n",
              "      border-color: transparent;\n",
              "      border-right-color: var(--fill-color);\n",
              "    }\n",
              "    80% {\n",
              "      border-color: transparent;\n",
              "      border-right-color: var(--fill-color);\n",
              "      border-bottom-color: var(--fill-color);\n",
              "    }\n",
              "    90% {\n",
              "      border-color: transparent;\n",
              "      border-bottom-color: var(--fill-color);\n",
              "    }\n",
              "  }\n",
              "</style>\n",
              "\n",
              "  <script>\n",
              "    async function quickchart(key) {\n",
              "      const quickchartButtonEl =\n",
              "        document.querySelector('#' + key + ' button');\n",
              "      quickchartButtonEl.disabled = true;  // To prevent multiple clicks.\n",
              "      quickchartButtonEl.classList.add('colab-df-spinner');\n",
              "      try {\n",
              "        const charts = await google.colab.kernel.invokeFunction(\n",
              "            'suggestCharts', [key], {});\n",
              "      } catch (error) {\n",
              "        console.error('Error during call to suggestCharts:', error);\n",
              "      }\n",
              "      quickchartButtonEl.classList.remove('colab-df-spinner');\n",
              "      quickchartButtonEl.classList.add('colab-df-quickchart-complete');\n",
              "    }\n",
              "    (() => {\n",
              "      let quickchartButtonEl =\n",
              "        document.querySelector('#df-a869958f-d662-4d25-981e-641d1308eede button');\n",
              "      quickchartButtonEl.style.display =\n",
              "        google.colab.kernel.accessAllowed ? 'block' : 'none';\n",
              "    })();\n",
              "  </script>\n",
              "</div>\n",
              "    </div>\n",
              "  </div>\n"
            ],
            "application/vnd.google.colaboratory.intrinsic+json": {
              "type": "dataframe",
              "variable_name": "data",
              "summary": "{\n  \"name\": \"data\",\n  \"rows\": 2043,\n  \"fields\": [\n    {\n      \"column\": \"process.b1.capacity\",\n      \"properties\": {\n        \"dtype\": \"number\",\n        \"std\": 0,\n        \"min\": 0,\n        \"max\": 2,\n        \"num_unique_values\": 3,\n        \"samples\": [\n          0,\n          1,\n          2\n        ],\n        \"semantic_type\": \"\",\n        \"description\": \"\"\n      }\n    },\n    {\n      \"column\": \"process.b2.capacity\",\n      \"properties\": {\n        \"dtype\": \"number\",\n        \"std\": 0,\n        \"min\": 0,\n        \"max\": 3,\n        \"num_unique_values\": 4,\n        \"samples\": [\n          1,\n          3,\n          0\n        ],\n        \"semantic_type\": \"\",\n        \"description\": \"\"\n      }\n    },\n    {\n      \"column\": \"process.b3.capacity\",\n      \"properties\": {\n        \"dtype\": \"number\",\n        \"std\": 0,\n        \"min\": 1,\n        \"max\": 2,\n        \"num_unique_values\": 2,\n        \"samples\": [\n          1,\n          2\n        ],\n        \"semantic_type\": \"\",\n        \"description\": \"\"\n      }\n    },\n    {\n      \"column\": \"process.b4.capacity\",\n      \"properties\": {\n        \"dtype\": \"number\",\n        \"std\": 0,\n        \"min\": 0,\n        \"max\": 1,\n        \"num_unique_values\": 2,\n        \"samples\": [\n          0,\n          1\n        ],\n        \"semantic_type\": \"\",\n        \"description\": \"\"\n      }\n    },\n    {\n      \"column\": \"property.price\",\n      \"properties\": {\n        \"dtype\": \"number\",\n        \"std\": 8,\n        \"min\": 59,\n        \"max\": 90,\n        \"num_unique_values\": 32,\n        \"samples\": [\n          88,\n          74\n        ],\n        \"semantic_type\": \"\",\n        \"description\": \"\"\n      }\n    },\n    {\n      \"column\": \"property.product\",\n      \"properties\": {\n        \"dtype\": \"number\",\n        \"std\": 1,\n        \"min\": 1,\n        \"max\": 6,\n        \"num_unique_values\": 6,\n        \"samples\": [\n          1,\n          2\n        ],\n        \"semantic_type\": \"\",\n        \"description\": \"\"\n      }\n    },\n    {\n      \"column\": \"property.winner\",\n      \"properties\": {\n        \"dtype\": \"number\",\n        \"std\": 1,\n        \"min\": 0,\n        \"max\": 4,\n        \"num_unique_values\": 5,\n        \"samples\": [\n          3,\n          1\n        ],\n        \"semantic_type\": \"\",\n        \"description\": \"\"\n      }\n    },\n    {\n      \"column\": \"verification.result\",\n      \"properties\": {\n        \"dtype\": \"boolean\",\n        \"num_unique_values\": 2,\n        \"samples\": [\n          true,\n          false\n        ],\n        \"semantic_type\": \"\",\n        \"description\": \"\"\n      }\n    },\n    {\n      \"column\": \"verification.time\",\n      \"properties\": {\n        \"dtype\": \"number\",\n        \"std\": 10375.393649629854,\n        \"min\": 77.91666666666667,\n        \"max\": 44130.520833333336,\n        \"num_unique_values\": 2039,\n        \"samples\": [\n          17158.770833333332,\n          1115.2916666666667\n        ],\n        \"semantic_type\": \"\",\n        \"description\": \"\"\n      }\n    }\n  ]\n}"
            }
          },
          "metadata": {},
          "execution_count": 67
        }
      ]
    },
    {
      "cell_type": "markdown",
      "source": [
        "##Data Preprocessing\n",
        "Pada bagian ini terdapat 2 data preprocessing, yaitu Split Dataset dan Normalisasi data\n",
        "1. Pembagian dataset menjadi training dan test set penting untuk memastikan efektivitas dan akurasi model machine learning.\n",
        "\n",
        "* Training set digunakan untuk melatih algoritma\n",
        "* test set untuk menguji keakuratan model pada data baru setelah selesai dilatih.\n",
        "\n",
        "Pembagian ini mencegah overfitting, membantu memilih model terbaik, dan memberikan estimasi performa yang realistis pada data baru.\n",
        "\n",
        "2. Normalisasi data penting dilakukan untuk menghindari fitur dengan skala berbeda mendominasi perhitungan, mempercepat konvergensi algoritma, dan memudahkan interpretasi bobot atau koefisien dalam model. Pada dataset Auction Verification, fitur-fitur memiliki skala nilai yang bervariasi, sehingga normalisasi membuat semua fitur berada dalam rentang nilai yang sama, membantu performa algoritma KNN"
      ],
      "metadata": {
        "id": "Kjd_KMU3yf_a"
      },
      "id": "Kjd_KMU3yf_a"
    },
    {
      "cell_type": "markdown",
      "source": [
        "##Splitting Data\n",
        "\n",
        "Pada code ini akan displit data menjadi 3 pembagian untuk uji coba, untuk pembagian training dan testing yaitu 90:10, 80:20, 70:30. Setelah dilakukan splitting data, data akan dinormalisasikan. Normalisasi data bertujuan untuk menyeragamkan skala atau rentang nilai dari fitur-fitur dalam dataset, sehingga dapat meningkatkan performa dan akurasi dari model."
      ],
      "metadata": {
        "id": "I0WL0e0IjB1I"
      },
      "id": "I0WL0e0IjB1I"
    },
    {
      "cell_type": "code",
      "source": [
        "# Menentukan fitur dan variabel target\n",
        "x = data.drop('verification.result', axis=1)\n",
        "y = data['verification.result']\n",
        "\n",
        "# Split dataset menjadi training dan testing\n",
        "# x_train, x_test, y_train, y_test = train_test_split(x, y, test_size=0.1, random_state=42) # data split 90:10\n",
        "# x_train, x_test, y_train, y_test = train_test_split(x, y, test_size=0.2, random_state=42) # data split 80:20\n",
        "x_train, x_test, y_train, y_test = train_test_split(x, y, test_size=0.3, random_state=42) # data split 70:30\n",
        "\n",
        "# Normalisasi data\n",
        "scaler = StandardScaler()\n",
        "x_train = scaler.fit_transform(x_train)\n",
        "x_test = scaler.transform(x_test)"
      ],
      "metadata": {
        "id": "KVgtLRKsyerl"
      },
      "id": "KVgtLRKsyerl",
      "execution_count": null,
      "outputs": []
    },
    {
      "cell_type": "markdown",
      "source": [
        "##Model Training\n",
        "\n",
        "Dalam pembuatan model K-Nearest Neighbors (KNN), digunakan parameter K dengan nilai 5. Parameter K menentukan jumlah tetangga terdekat yang dipertimbangkan dalam klasifikasi. Jika nilai K ditingkatkan, model akan mempertimbangkan lebih banyak tetangga dalam pengambilan keputusan, yang dapat menghasilkan batas keputusan yang lebih halus dan mengurangi pengaruh outlier, namun dapat juga meningkatkan kompleksitas komputasi. Di sisi lain, jika nilai K dikurangi, model akan lebih fokus pada tetangga terdekat dan menghasilkan batas keputusan yang lebih ketat, tetapi lebih rentan terhadap noise dan outlier dalam data"
      ],
      "metadata": {
        "id": "q7GrTvFRymvz"
      },
      "id": "q7GrTvFRymvz"
    },
    {
      "cell_type": "code",
      "source": [
        "# Inisialisasi model KKN\n",
        "knn = KNeighborsClassifier(n_neighbors=5)\n",
        "\n",
        "knn.fit(x_train, y_train)\n"
      ],
      "metadata": {
        "colab": {
          "base_uri": "https://localhost:8080/",
          "height": 75
        },
        "id": "1v7oFOcoyo3G",
        "outputId": "df71145e-4e10-4564-ebbe-4bbed82528df"
      },
      "id": "1v7oFOcoyo3G",
      "execution_count": null,
      "outputs": [
        {
          "output_type": "execute_result",
          "data": {
            "text/plain": [
              "KNeighborsClassifier()"
            ],
            "text/html": [
              "<style>#sk-container-id-8 {color: black;background-color: white;}#sk-container-id-8 pre{padding: 0;}#sk-container-id-8 div.sk-toggleable {background-color: white;}#sk-container-id-8 label.sk-toggleable__label {cursor: pointer;display: block;width: 100%;margin-bottom: 0;padding: 0.3em;box-sizing: border-box;text-align: center;}#sk-container-id-8 label.sk-toggleable__label-arrow:before {content: \"▸\";float: left;margin-right: 0.25em;color: #696969;}#sk-container-id-8 label.sk-toggleable__label-arrow:hover:before {color: black;}#sk-container-id-8 div.sk-estimator:hover label.sk-toggleable__label-arrow:before {color: black;}#sk-container-id-8 div.sk-toggleable__content {max-height: 0;max-width: 0;overflow: hidden;text-align: left;background-color: #f0f8ff;}#sk-container-id-8 div.sk-toggleable__content pre {margin: 0.2em;color: black;border-radius: 0.25em;background-color: #f0f8ff;}#sk-container-id-8 input.sk-toggleable__control:checked~div.sk-toggleable__content {max-height: 200px;max-width: 100%;overflow: auto;}#sk-container-id-8 input.sk-toggleable__control:checked~label.sk-toggleable__label-arrow:before {content: \"▾\";}#sk-container-id-8 div.sk-estimator input.sk-toggleable__control:checked~label.sk-toggleable__label {background-color: #d4ebff;}#sk-container-id-8 div.sk-label input.sk-toggleable__control:checked~label.sk-toggleable__label {background-color: #d4ebff;}#sk-container-id-8 input.sk-hidden--visually {border: 0;clip: rect(1px 1px 1px 1px);clip: rect(1px, 1px, 1px, 1px);height: 1px;margin: -1px;overflow: hidden;padding: 0;position: absolute;width: 1px;}#sk-container-id-8 div.sk-estimator {font-family: monospace;background-color: #f0f8ff;border: 1px dotted black;border-radius: 0.25em;box-sizing: border-box;margin-bottom: 0.5em;}#sk-container-id-8 div.sk-estimator:hover {background-color: #d4ebff;}#sk-container-id-8 div.sk-parallel-item::after {content: \"\";width: 100%;border-bottom: 1px solid gray;flex-grow: 1;}#sk-container-id-8 div.sk-label:hover label.sk-toggleable__label {background-color: #d4ebff;}#sk-container-id-8 div.sk-serial::before {content: \"\";position: absolute;border-left: 1px solid gray;box-sizing: border-box;top: 0;bottom: 0;left: 50%;z-index: 0;}#sk-container-id-8 div.sk-serial {display: flex;flex-direction: column;align-items: center;background-color: white;padding-right: 0.2em;padding-left: 0.2em;position: relative;}#sk-container-id-8 div.sk-item {position: relative;z-index: 1;}#sk-container-id-8 div.sk-parallel {display: flex;align-items: stretch;justify-content: center;background-color: white;position: relative;}#sk-container-id-8 div.sk-item::before, #sk-container-id-8 div.sk-parallel-item::before {content: \"\";position: absolute;border-left: 1px solid gray;box-sizing: border-box;top: 0;bottom: 0;left: 50%;z-index: -1;}#sk-container-id-8 div.sk-parallel-item {display: flex;flex-direction: column;z-index: 1;position: relative;background-color: white;}#sk-container-id-8 div.sk-parallel-item:first-child::after {align-self: flex-end;width: 50%;}#sk-container-id-8 div.sk-parallel-item:last-child::after {align-self: flex-start;width: 50%;}#sk-container-id-8 div.sk-parallel-item:only-child::after {width: 0;}#sk-container-id-8 div.sk-dashed-wrapped {border: 1px dashed gray;margin: 0 0.4em 0.5em 0.4em;box-sizing: border-box;padding-bottom: 0.4em;background-color: white;}#sk-container-id-8 div.sk-label label {font-family: monospace;font-weight: bold;display: inline-block;line-height: 1.2em;}#sk-container-id-8 div.sk-label-container {text-align: center;}#sk-container-id-8 div.sk-container {/* jupyter's `normalize.less` sets `[hidden] { display: none; }` but bootstrap.min.css set `[hidden] { display: none !important; }` so we also need the `!important` here to be able to override the default hidden behavior on the sphinx rendered scikit-learn.org. See: https://github.com/scikit-learn/scikit-learn/issues/21755 */display: inline-block !important;position: relative;}#sk-container-id-8 div.sk-text-repr-fallback {display: none;}</style><div id=\"sk-container-id-8\" class=\"sk-top-container\"><div class=\"sk-text-repr-fallback\"><pre>KNeighborsClassifier()</pre><b>In a Jupyter environment, please rerun this cell to show the HTML representation or trust the notebook. <br />On GitHub, the HTML representation is unable to render, please try loading this page with nbviewer.org.</b></div><div class=\"sk-container\" hidden><div class=\"sk-item\"><div class=\"sk-estimator sk-toggleable\"><input class=\"sk-toggleable__control sk-hidden--visually\" id=\"sk-estimator-id-8\" type=\"checkbox\" checked><label for=\"sk-estimator-id-8\" class=\"sk-toggleable__label sk-toggleable__label-arrow\">KNeighborsClassifier</label><div class=\"sk-toggleable__content\"><pre>KNeighborsClassifier()</pre></div></div></div></div></div>"
            ]
          },
          "metadata": {},
          "execution_count": 69
        }
      ]
    },
    {
      "cell_type": "markdown",
      "source": [
        "##Save Model"
      ],
      "metadata": {
        "id": "otCRh_v3yrP4"
      },
      "id": "otCRh_v3yrP4"
    },
    {
      "cell_type": "code",
      "source": [
        "# Menyimpan model\n",
        "joblib.dump(knn, 'trained_model.pkl')\n"
      ],
      "metadata": {
        "colab": {
          "base_uri": "https://localhost:8080/"
        },
        "id": "Tcb3E2NXyqyJ",
        "outputId": "4d9171eb-c2cc-4add-de35-95ed94963f8f"
      },
      "id": "Tcb3E2NXyqyJ",
      "execution_count": null,
      "outputs": [
        {
          "output_type": "execute_result",
          "data": {
            "text/plain": [
              "['trained_model.pkl']"
            ]
          },
          "metadata": {},
          "execution_count": 70
        }
      ]
    },
    {
      "cell_type": "markdown",
      "source": [
        "##Testing Performa"
      ],
      "metadata": {
        "id": "qGVnhgB0y5Nb"
      },
      "id": "qGVnhgB0y5Nb"
    },
    {
      "cell_type": "code",
      "source": [
        "# Melakukan testing\n",
        "y_train_pred = knn.predict(x_train)\n",
        "y_pred = knn.predict(x_test)\n",
        "\n",
        "print(\"Confusion Matrix:\")\n",
        "print(confusion_matrix(y_test, y_pred))\n",
        "\n",
        "print(\"\\nClassification Report:\")\n",
        "print(classification_report(y_test, y_pred))\n",
        "\n",
        "print(\"\\nTraining Accuracy: {:0.2f}\".format(accuracy_score(y_train, y_train_pred)))\n",
        "print(\"\\nTesting Accuracy: {:0.2f}\".format(accuracy_score(y_test, y_pred)))\n"
      ],
      "metadata": {
        "colab": {
          "base_uri": "https://localhost:8080/"
        },
        "id": "I8fv2mLoytbG",
        "outputId": "f51f2046-a60a-4e09-c24e-50f11515a0a9"
      },
      "id": "I8fv2mLoytbG",
      "execution_count": null,
      "outputs": [
        {
          "output_type": "stream",
          "name": "stdout",
          "text": [
            "Confusion Matrix:\n",
            "[[524  10]\n",
            " [ 55  24]]\n",
            "\n",
            "Classification Report:\n",
            "              precision    recall  f1-score   support\n",
            "\n",
            "       False       0.91      0.98      0.94       534\n",
            "        True       0.71      0.30      0.42        79\n",
            "\n",
            "    accuracy                           0.89       613\n",
            "   macro avg       0.81      0.64      0.68       613\n",
            "weighted avg       0.88      0.89      0.87       613\n",
            "\n",
            "\n",
            "Training Accuracy: 0.92\n",
            "\n",
            "Testing Accuracy: 0.89\n"
          ]
        }
      ]
    },
    {
      "cell_type": "markdown",
      "source": [
        "##Visualisasi Performa"
      ],
      "metadata": {
        "id": "GRRW_xpq3hct"
      },
      "id": "GRRW_xpq3hct"
    },
    {
      "cell_type": "code",
      "source": [
        "# Confusion Matrix testing\n",
        "plt.figure(figsize=(10, 7))\n",
        "sns.heatmap(confusion_matrix(y_test, y_pred), annot=True, fmt='d', cmap='Blues')\n",
        "plt.title('Confusion Matrix Testing')\n",
        "plt.xlabel('Predicted')\n",
        "plt.ylabel('Actual')\n",
        "plt.show()"
      ],
      "metadata": {
        "id": "mZFkkDM4CCl4",
        "colab": {
          "base_uri": "https://localhost:8080/",
          "height": 641
        },
        "outputId": "0263e893-408e-48c3-f6f9-54d4fb3fbd93"
      },
      "id": "mZFkkDM4CCl4",
      "execution_count": null,
      "outputs": [
        {
          "output_type": "display_data",
          "data": {
            "text/plain": [
              "<Figure size 1000x700 with 2 Axes>"
            ],
            "image/png": "[encoded data removed]"
          },
          "metadata": {}
        }
      ]
    },
    {
      "cell_type": "code",
      "source": [
        "# Akurasi skor testing\n",
        "accuracy = accuracy_score(y_test, y_pred)\n",
        "plt.figure(figsize=(6, 4))\n",
        "plt.bar(['Accuracy'], [accuracy], color='blue')\n",
        "plt.ylim(0, 1)\n",
        "plt.title('Accuracy Score Testing')\n",
        "plt.show()"
      ],
      "metadata": {
        "id": "YhUsGR_vCGCH",
        "colab": {
          "base_uri": "https://localhost:8080/",
          "height": 391
        },
        "outputId": "b3d0cacc-6ce5-431c-cfae-ad02d125dce4"
      },
      "id": "YhUsGR_vCGCH",
      "execution_count": null,
      "outputs": [
        {
          "output_type": "display_data",
          "data": {
            "text/plain": [
              "<Figure size 600x400 with 1 Axes>"
            ],
            "image/png": "[encoded data removed]"
          },
          "metadata": {}
        }
      ]
    },
    {
      "cell_type": "markdown",
      "id": "c5526cf7",
      "metadata": {
        "id": "c5526cf7"
      },
      "source": [
        "#### Hasil dan Analisis\n",
        "Model K-Nearest Neighbors (KNN) telah dilatih menggunakan dataset yang ada untuk memprediksi hasil verifikasi(verification.result). Evaluasi model dilakukan dengan memanfaatkan confusion matrix, laporan klasifikasi (Presisi , Recall, F1-Skor), dan skor akurasi. Visualisasi kinerja model disajikan melalui heatmap confusion matrix dan plot skor akurasi.\n",
        "\n",
        "*   Skor akurasi menggambarkan performa keakuratan model pada data pengujian\n",
        "*   Presisi menggambarkan proporsi prediksi positif yang benar-benar positif.\n",
        "*   Recall menggambarkan proporsi total kasus positif yang berhasil diidentifikasi dengan benar oleh model.\n",
        "*   F1-Skor adalah rata-rata harmonik dari presisi dan recall, yang memberikan keseimbangan antara keduanya.\n",
        "\n",
        "Hasil Pengujian :\n",
        "\n",
        "1. Pengujian 1 dilakukan dengan pembagian dataset 90  : 10 , dan didapatkanlah hasil metriks evaluasi sebagai berikut :\n",
        "Accuracy : 89%  \n",
        "Recall : 31%\n",
        "Precision : 75%\n",
        "F1-Score : 44%\n",
        "\n",
        "2. Pengujian 2 dilakukan dengan pembagian dataset 80 : 20 , dan didapatkanlah hasil metriks evaluasi sebagai berikut :\n",
        "Accuracy : 90%\n",
        "Recall : 35%\n",
        "Precision : 76%\n",
        "F1-Score : 47%\n",
        "\n",
        "3. Pengujian 3 dilakukan dengan pembagian dataset 70 : 30 , dan didapatkanlah hasil metriks evaluasi sebagai berikut :\n",
        "Accuracy : 89%\n",
        "Recall : 30%\n",
        "Precision : 71%\n",
        "F1-Score : 42%"
      ]
    },
    {
      "cell_type": "markdown",
      "id": "8a255fe5",
      "metadata": {
        "id": "8a255fe5"
      },
      "source": [
        "#### Kesimpulan\n",
        "Model K-Nearest Neighbors (KNN) telah berhasil dilatih dan diuji menggunakan dataset Auction Verification yang diberikan. Setelah melakukan eksperimen dengan beberapa rasio pembagian dataset, ditemukan bahwa rasio terbaik adalah 80:20 (80% data untuk pelatihan dan 20% untuk pengujian). Dengan rasio ini, model KNN mencapai skor akurasi sebesar 90%, lebih tinggi dibandingkan dengan rasio pembagian dataset lainnya yang diujikan.Hasil ini menunjukkan bahwa model KNN memiliki performa yang baik dan efektif untuk klasifikasi pada dataset Auction Verification. Skor akurasi yang tinggi mengindikasikan bahwa model dapat memprediksi kelas dengan tepat untuk sebagian besar data yang diujikan."
      ]
    }
  ],
  "metadata": {
    "kernelspec": {
      "display_name": "Python 3 (ipykernel)",
      "language": "python",
      "name": "python3"
    },
    "language_info": {
      "codemirror_mode": {
        "name": "ipython",
        "version": 3
      },
      "file_extension": ".py",
      "mimetype": "text/x-python",
      "name": "python",
      "nbconvert_exporter": "python",
      "pygments_lexer": "ipython3",
      "version": "3.10.9"
    },
    "colab": {
      "provenance": []
    }
  },
  "nbformat": 4,
  "nbformat_minor": 5
}